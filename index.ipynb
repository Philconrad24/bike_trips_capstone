{
 "cells": [
  {
   "cell_type": "markdown",
   "id": "72132893",
   "metadata": {},
   "source": [
    "# CYCLIST BIKE SHARING COMPANY"
   ]
  },
  {
   "cell_type": "markdown",
   "id": "da864ed8",
   "metadata": {},
   "source": [
    "## Business Understanding"
   ]
  },
  {
   "cell_type": "markdown",
   "id": "e720e955",
   "metadata": {},
   "source": [
    "### Problem Statement"
   ]
  },
  {
   "cell_type": "markdown",
   "id": "8222734c",
   "metadata": {},
   "source": [
    "You are a junior data analyst working on the marketing analyst team at Cyclistic, a bike-share\n",
    "company in Chicago. The director of marketing believes the company’s future success\n",
    "depends on maximizing the number of annual memberships. Therefore, your team wants to\n",
    "understand how casual riders and annual members use Cyclistic bikes differently. From these\n",
    "insights, your team will design a new marketing strategy to convert casual riders into annual\n",
    "members. But first, Cyclistic executives must approve your recommendations, so they must be\n",
    "backed up with compelling data insights and professional data visualizations."
   ]
  },
  {
   "cell_type": "markdown",
   "id": "5d38ca28",
   "metadata": {},
   "source": [
    "### Objectives"
   ]
  },
  {
   "cell_type": "markdown",
   "id": "726d8a11",
   "metadata": {},
   "source": [
    "In this project, we are interested in finding answers to the following questions:\n",
    "1. How do annual members and casual riders use Cyclistic bikes differently?\n",
    "2. Why would casual riders buy Cyclistic annual memberships?\n",
    "3. How can Cyclistic use digital media to influence casual riders to become members?\n"
   ]
  },
  {
   "cell_type": "markdown",
   "id": "b55c5560",
   "metadata": {},
   "source": [
    "## Data Understanding & Preparations"
   ]
  },
  {
   "cell_type": "markdown",
   "id": "0f85e58e",
   "metadata": {},
   "source": [
    "Since we are dealing with annual data, we need to merge the monthly spreadsheets to one dataset to provide insights of the annual data."
   ]
  },
  {
   "cell_type": "code",
   "execution_count": 1,
   "id": "8d64b866",
   "metadata": {},
   "outputs": [],
   "source": [
    "# Importing necessary modules and packages\n",
    "\n",
    "# For data analysis and manipulation\n",
    "import pandas as pd\n",
    "import numpy as np \n",
    "\n",
    "# For plotting and visualization\n",
    "import matplotlib.pyplot as plt\n",
    "import seaborn as sns\n",
    "import plotly.express as px\n",
    "\n",
    "# Display plots in the notebook\n",
    "%matplotlib inline\n",
    "\n",
    "# Filter warnings\n",
    "import warnings \n",
    "warnings.filterwarnings(\"ignore\")\n"
   ]
  },
  {
   "cell_type": "code",
   "execution_count": 2,
   "id": "70b441f2",
   "metadata": {},
   "outputs": [],
   "source": [
    "# Loading and merging the csv files\n",
    "Jan = pd.read_csv(\"Data/2021_01.csv\")\n",
    "Feb = pd.read_csv(\"Data/2021_02.csv\")\n",
    "Mar = pd.read_csv(\"Data/2021_03.csv\")\n",
    "Apr = pd.read_csv(\"Data/2021_04.csv\")\n",
    "May = pd.read_csv(\"Data/2021_05.csv\")\n",
    "Jun = pd.read_csv(\"Data/2021_06.csv\")\n",
    "Jul = pd.read_csv(\"Data/2021_07.csv\")\n",
    "Aug = pd.read_csv(\"Data/2021_08.csv\")\n",
    "Sep = pd.read_csv(\"Data/2021_09.csv\")\n",
    "Oct = pd.read_csv(\"Data/2021_10.csv\")\n",
    "Nov = pd.read_csv(\"Data/2021_11.csv\")\n",
    "Dec = pd.read_csv(\"Data/2021_12.csv\")\n",
    "\n",
    "bike_trip_df = pd.concat([Jan, Feb, Mar, Apr, May, Jun, Jul, Aug, Sep, Oct, Nov, Dec], ignore_index=True)"
   ]
  },
  {
   "cell_type": "code",
   "execution_count": 3,
   "id": "b43b2f57",
   "metadata": {},
   "outputs": [
    {
     "data": {
      "text/plain": [
       "(5595063, 13)"
      ]
     },
     "execution_count": 3,
     "metadata": {},
     "output_type": "execute_result"
    }
   ],
   "source": [
    "bike_trip_df.shape"
   ]
  },
  {
   "cell_type": "code",
   "execution_count": 4,
   "id": "5033272c",
   "metadata": {},
   "outputs": [
    {
     "name": "stdout",
     "output_type": "stream",
     "text": [
      "<class 'pandas.core.frame.DataFrame'>\n",
      "RangeIndex: 5595063 entries, 0 to 5595062\n",
      "Data columns (total 13 columns):\n",
      " #   Column              Dtype  \n",
      "---  ------              -----  \n",
      " 0   ride_id             object \n",
      " 1   rideable_type       object \n",
      " 2   started_at          object \n",
      " 3   ended_at            object \n",
      " 4   start_station_name  object \n",
      " 5   start_station_id    object \n",
      " 6   end_station_name    object \n",
      " 7   end_station_id      object \n",
      " 8   start_lat           float64\n",
      " 9   start_lng           float64\n",
      " 10  end_lat             float64\n",
      " 11  end_lng             float64\n",
      " 12  member_casual       object \n",
      "dtypes: float64(4), object(9)\n",
      "memory usage: 554.9+ MB\n"
     ]
    }
   ],
   "source": [
    "# Stats of the newly-formed dataset\n",
    "bike_trip_df.info()"
   ]
  },
  {
   "cell_type": "markdown",
   "id": "19b6757a",
   "metadata": {},
   "source": [
    "## Data Cleaning"
   ]
  },
  {
   "cell_type": "markdown",
   "id": "25a1df0c",
   "metadata": {},
   "source": [
    "We need to check for missing values and duplicates first, then use the appropriate functions to deal with them if there are any."
   ]
  },
  {
   "cell_type": "code",
   "execution_count": 5,
   "id": "40f92d3f",
   "metadata": {},
   "outputs": [
    {
     "data": {
      "text/plain": [
       "ride_id                    0\n",
       "rideable_type              0\n",
       "started_at                 0\n",
       "ended_at                   0\n",
       "start_station_name    690809\n",
       "start_station_id      690806\n",
       "end_station_name      739170\n",
       "end_station_id        739170\n",
       "start_lat                  0\n",
       "start_lng                  0\n",
       "end_lat                 4771\n",
       "end_lng                 4771\n",
       "member_casual              0\n",
       "dtype: int64"
      ]
     },
     "execution_count": 5,
     "metadata": {},
     "output_type": "execute_result"
    }
   ],
   "source": [
    "bike_trip_df.isnull().sum()"
   ]
  },
  {
   "cell_type": "markdown",
   "id": "660e0ec4",
   "metadata": {},
   "source": [
    "Due to the huge number of missing values, we have to delete the rows with missing values"
   ]
  },
  {
   "cell_type": "code",
   "execution_count": 6,
   "id": "9d538fd7",
   "metadata": {},
   "outputs": [],
   "source": [
    "bike_trip_df = bike_trip_df.dropna()"
   ]
  },
  {
   "cell_type": "code",
   "execution_count": 7,
   "id": "8ac13a8f",
   "metadata": {},
   "outputs": [
    {
     "name": "stdout",
     "output_type": "stream",
     "text": [
      "<class 'pandas.core.frame.DataFrame'>\n",
      "Index: 4588302 entries, 9 to 5595062\n",
      "Data columns (total 13 columns):\n",
      " #   Column              Dtype  \n",
      "---  ------              -----  \n",
      " 0   ride_id             object \n",
      " 1   rideable_type       object \n",
      " 2   started_at          object \n",
      " 3   ended_at            object \n",
      " 4   start_station_name  object \n",
      " 5   start_station_id    object \n",
      " 6   end_station_name    object \n",
      " 7   end_station_id      object \n",
      " 8   start_lat           float64\n",
      " 9   start_lng           float64\n",
      " 10  end_lat             float64\n",
      " 11  end_lng             float64\n",
      " 12  member_casual       object \n",
      "dtypes: float64(4), object(9)\n",
      "memory usage: 490.1+ MB\n"
     ]
    }
   ],
   "source": [
    "# Examine the new data\n",
    "bike_trip_df.info()"
   ]
  },
  {
   "cell_type": "code",
   "execution_count": 8,
   "id": "7045a825",
   "metadata": {},
   "outputs": [
    {
     "data": {
      "text/plain": [
       "ride_id               0\n",
       "rideable_type         0\n",
       "started_at            0\n",
       "ended_at              0\n",
       "start_station_name    0\n",
       "start_station_id      0\n",
       "end_station_name      0\n",
       "end_station_id        0\n",
       "start_lat             0\n",
       "start_lng             0\n",
       "end_lat               0\n",
       "end_lng               0\n",
       "member_casual         0\n",
       "dtype: int64"
      ]
     },
     "execution_count": 8,
     "metadata": {},
     "output_type": "execute_result"
    }
   ],
   "source": [
    "# Check null values\n",
    "bike_trip_df.isnull().sum()"
   ]
  },
  {
   "cell_type": "markdown",
   "id": "e1ed9d5c",
   "metadata": {},
   "source": [
    "There are no null values. So we check for duplicates."
   ]
  },
  {
   "cell_type": "code",
   "execution_count": 9,
   "id": "4d94f06e",
   "metadata": {},
   "outputs": [
    {
     "data": {
      "text/html": [
       "<div>\n",
       "<style scoped>\n",
       "    .dataframe tbody tr th:only-of-type {\n",
       "        vertical-align: middle;\n",
       "    }\n",
       "\n",
       "    .dataframe tbody tr th {\n",
       "        vertical-align: top;\n",
       "    }\n",
       "\n",
       "    .dataframe thead th {\n",
       "        text-align: right;\n",
       "    }\n",
       "</style>\n",
       "<table border=\"1\" class=\"dataframe\">\n",
       "  <thead>\n",
       "    <tr style=\"text-align: right;\">\n",
       "      <th></th>\n",
       "      <th>ride_id</th>\n",
       "      <th>rideable_type</th>\n",
       "      <th>started_at</th>\n",
       "      <th>ended_at</th>\n",
       "      <th>start_station_name</th>\n",
       "      <th>start_station_id</th>\n",
       "      <th>end_station_name</th>\n",
       "      <th>end_station_id</th>\n",
       "      <th>start_lat</th>\n",
       "      <th>start_lng</th>\n",
       "      <th>end_lat</th>\n",
       "      <th>end_lng</th>\n",
       "      <th>member_casual</th>\n",
       "    </tr>\n",
       "  </thead>\n",
       "  <tbody>\n",
       "  </tbody>\n",
       "</table>\n",
       "</div>"
      ],
      "text/plain": [
       "Empty DataFrame\n",
       "Columns: [ride_id, rideable_type, started_at, ended_at, start_station_name, start_station_id, end_station_name, end_station_id, start_lat, start_lng, end_lat, end_lng, member_casual]\n",
       "Index: []"
      ]
     },
     "execution_count": 9,
     "metadata": {},
     "output_type": "execute_result"
    }
   ],
   "source": [
    "bike_trip_df[bike_trip_df.duplicated()]"
   ]
  },
  {
   "cell_type": "markdown",
   "id": "5d3dcd37",
   "metadata": {},
   "source": [
    "There are no duplicates as well. Now we can explore the new dataset."
   ]
  },
  {
   "cell_type": "markdown",
   "id": "04283b61",
   "metadata": {},
   "source": [
    "We split the `started_at` column to get the day of the week, date, month and year."
   ]
  },
  {
   "cell_type": "code",
   "execution_count": 10,
   "id": "87bbdd4e",
   "metadata": {},
   "outputs": [
    {
     "data": {
      "text/html": [
       "<div>\n",
       "<style scoped>\n",
       "    .dataframe tbody tr th:only-of-type {\n",
       "        vertical-align: middle;\n",
       "    }\n",
       "\n",
       "    .dataframe tbody tr th {\n",
       "        vertical-align: top;\n",
       "    }\n",
       "\n",
       "    .dataframe thead th {\n",
       "        text-align: right;\n",
       "    }\n",
       "</style>\n",
       "<table border=\"1\" class=\"dataframe\">\n",
       "  <thead>\n",
       "    <tr style=\"text-align: right;\">\n",
       "      <th></th>\n",
       "      <th>ride_id</th>\n",
       "      <th>rideable_type</th>\n",
       "      <th>started_at</th>\n",
       "      <th>ended_at</th>\n",
       "      <th>start_station_name</th>\n",
       "      <th>start_station_id</th>\n",
       "      <th>end_station_name</th>\n",
       "      <th>end_station_id</th>\n",
       "      <th>start_lat</th>\n",
       "      <th>start_lng</th>\n",
       "      <th>end_lat</th>\n",
       "      <th>end_lng</th>\n",
       "      <th>member_casual</th>\n",
       "    </tr>\n",
       "  </thead>\n",
       "  <tbody>\n",
       "    <tr>\n",
       "      <th>9</th>\n",
       "      <td>B9F73448DFBE0D45</td>\n",
       "      <td>classic_bike</td>\n",
       "      <td>2021-01-24 19:15:38</td>\n",
       "      <td>2021-01-24 19:22:51</td>\n",
       "      <td>California Ave &amp; Cortez St</td>\n",
       "      <td>17660</td>\n",
       "      <td>Wood St &amp; Augusta Blvd</td>\n",
       "      <td>657</td>\n",
       "      <td>41.900363</td>\n",
       "      <td>-87.696704</td>\n",
       "      <td>41.899181</td>\n",
       "      <td>-87.672200</td>\n",
       "      <td>member</td>\n",
       "    </tr>\n",
       "    <tr>\n",
       "      <th>10</th>\n",
       "      <td>457C7F4B5D3DA135</td>\n",
       "      <td>electric_bike</td>\n",
       "      <td>2021-01-23 12:57:38</td>\n",
       "      <td>2021-01-23 13:02:10</td>\n",
       "      <td>California Ave &amp; Cortez St</td>\n",
       "      <td>17660</td>\n",
       "      <td>California Ave &amp; North Ave</td>\n",
       "      <td>13258</td>\n",
       "      <td>41.900406</td>\n",
       "      <td>-87.696733</td>\n",
       "      <td>41.910435</td>\n",
       "      <td>-87.696890</td>\n",
       "      <td>member</td>\n",
       "    </tr>\n",
       "    <tr>\n",
       "      <th>11</th>\n",
       "      <td>57C750326F9FDABE</td>\n",
       "      <td>electric_bike</td>\n",
       "      <td>2021-01-09 15:28:04</td>\n",
       "      <td>2021-01-09 15:37:51</td>\n",
       "      <td>California Ave &amp; Cortez St</td>\n",
       "      <td>17660</td>\n",
       "      <td>Wood St &amp; Augusta Blvd</td>\n",
       "      <td>657</td>\n",
       "      <td>41.900374</td>\n",
       "      <td>-87.696688</td>\n",
       "      <td>41.899180</td>\n",
       "      <td>-87.672178</td>\n",
       "      <td>casual</td>\n",
       "    </tr>\n",
       "    <tr>\n",
       "      <th>12</th>\n",
       "      <td>4D518C65E338D070</td>\n",
       "      <td>electric_bike</td>\n",
       "      <td>2021-01-09 15:28:57</td>\n",
       "      <td>2021-01-09 15:37:54</td>\n",
       "      <td>California Ave &amp; Cortez St</td>\n",
       "      <td>17660</td>\n",
       "      <td>Wood St &amp; Augusta Blvd</td>\n",
       "      <td>657</td>\n",
       "      <td>41.900379</td>\n",
       "      <td>-87.696716</td>\n",
       "      <td>41.899149</td>\n",
       "      <td>-87.672177</td>\n",
       "      <td>casual</td>\n",
       "    </tr>\n",
       "    <tr>\n",
       "      <th>13</th>\n",
       "      <td>9D08A3AFF410474D</td>\n",
       "      <td>classic_bike</td>\n",
       "      <td>2021-01-24 15:56:59</td>\n",
       "      <td>2021-01-24 16:07:08</td>\n",
       "      <td>California Ave &amp; Cortez St</td>\n",
       "      <td>17660</td>\n",
       "      <td>Wood St &amp; Augusta Blvd</td>\n",
       "      <td>657</td>\n",
       "      <td>41.900363</td>\n",
       "      <td>-87.696704</td>\n",
       "      <td>41.899181</td>\n",
       "      <td>-87.672200</td>\n",
       "      <td>casual</td>\n",
       "    </tr>\n",
       "  </tbody>\n",
       "</table>\n",
       "</div>"
      ],
      "text/plain": [
       "             ride_id  rideable_type           started_at             ended_at  \\\n",
       "9   B9F73448DFBE0D45   classic_bike  2021-01-24 19:15:38  2021-01-24 19:22:51   \n",
       "10  457C7F4B5D3DA135  electric_bike  2021-01-23 12:57:38  2021-01-23 13:02:10   \n",
       "11  57C750326F9FDABE  electric_bike  2021-01-09 15:28:04  2021-01-09 15:37:51   \n",
       "12  4D518C65E338D070  electric_bike  2021-01-09 15:28:57  2021-01-09 15:37:54   \n",
       "13  9D08A3AFF410474D   classic_bike  2021-01-24 15:56:59  2021-01-24 16:07:08   \n",
       "\n",
       "            start_station_name start_station_id            end_station_name  \\\n",
       "9   California Ave & Cortez St            17660      Wood St & Augusta Blvd   \n",
       "10  California Ave & Cortez St            17660  California Ave & North Ave   \n",
       "11  California Ave & Cortez St            17660      Wood St & Augusta Blvd   \n",
       "12  California Ave & Cortez St            17660      Wood St & Augusta Blvd   \n",
       "13  California Ave & Cortez St            17660      Wood St & Augusta Blvd   \n",
       "\n",
       "   end_station_id  start_lat  start_lng    end_lat    end_lng member_casual  \n",
       "9             657  41.900363 -87.696704  41.899181 -87.672200        member  \n",
       "10          13258  41.900406 -87.696733  41.910435 -87.696890        member  \n",
       "11            657  41.900374 -87.696688  41.899180 -87.672178        casual  \n",
       "12            657  41.900379 -87.696716  41.899149 -87.672177        casual  \n",
       "13            657  41.900363 -87.696704  41.899181 -87.672200        casual  "
      ]
     },
     "execution_count": 10,
     "metadata": {},
     "output_type": "execute_result"
    }
   ],
   "source": [
    "bike_trip_df.head()"
   ]
  },
  {
   "cell_type": "code",
   "execution_count": 11,
   "id": "14d5e7de",
   "metadata": {},
   "outputs": [
    {
     "data": {
      "text/html": [
       "<div>\n",
       "<style scoped>\n",
       "    .dataframe tbody tr th:only-of-type {\n",
       "        vertical-align: middle;\n",
       "    }\n",
       "\n",
       "    .dataframe tbody tr th {\n",
       "        vertical-align: top;\n",
       "    }\n",
       "\n",
       "    .dataframe thead th {\n",
       "        text-align: right;\n",
       "    }\n",
       "</style>\n",
       "<table border=\"1\" class=\"dataframe\">\n",
       "  <thead>\n",
       "    <tr style=\"text-align: right;\">\n",
       "      <th></th>\n",
       "      <th>ride_id</th>\n",
       "      <th>rideable_type</th>\n",
       "      <th>started_at</th>\n",
       "      <th>ended_at</th>\n",
       "      <th>start_station_name</th>\n",
       "      <th>start_station_id</th>\n",
       "      <th>end_station_name</th>\n",
       "      <th>end_station_id</th>\n",
       "      <th>start_lat</th>\n",
       "      <th>start_lng</th>\n",
       "      <th>end_lat</th>\n",
       "      <th>end_lng</th>\n",
       "      <th>member_casual</th>\n",
       "      <th>day_of_week</th>\n",
       "      <th>date</th>\n",
       "      <th>month</th>\n",
       "      <th>year</th>\n",
       "      <th>day</th>\n",
       "    </tr>\n",
       "  </thead>\n",
       "  <tbody>\n",
       "    <tr>\n",
       "      <th>9</th>\n",
       "      <td>B9F73448DFBE0D45</td>\n",
       "      <td>classic_bike</td>\n",
       "      <td>2021-01-24 19:15:38</td>\n",
       "      <td>2021-01-24 19:22:51</td>\n",
       "      <td>California Ave &amp; Cortez St</td>\n",
       "      <td>17660</td>\n",
       "      <td>Wood St &amp; Augusta Blvd</td>\n",
       "      <td>657</td>\n",
       "      <td>41.900363</td>\n",
       "      <td>-87.696704</td>\n",
       "      <td>41.899181</td>\n",
       "      <td>-87.672200</td>\n",
       "      <td>member</td>\n",
       "      <td>Sunday</td>\n",
       "      <td>2021-01-24</td>\n",
       "      <td>January</td>\n",
       "      <td>2021</td>\n",
       "      <td>24</td>\n",
       "    </tr>\n",
       "    <tr>\n",
       "      <th>10</th>\n",
       "      <td>457C7F4B5D3DA135</td>\n",
       "      <td>electric_bike</td>\n",
       "      <td>2021-01-23 12:57:38</td>\n",
       "      <td>2021-01-23 13:02:10</td>\n",
       "      <td>California Ave &amp; Cortez St</td>\n",
       "      <td>17660</td>\n",
       "      <td>California Ave &amp; North Ave</td>\n",
       "      <td>13258</td>\n",
       "      <td>41.900406</td>\n",
       "      <td>-87.696733</td>\n",
       "      <td>41.910435</td>\n",
       "      <td>-87.696890</td>\n",
       "      <td>member</td>\n",
       "      <td>Saturday</td>\n",
       "      <td>2021-01-23</td>\n",
       "      <td>January</td>\n",
       "      <td>2021</td>\n",
       "      <td>23</td>\n",
       "    </tr>\n",
       "    <tr>\n",
       "      <th>11</th>\n",
       "      <td>57C750326F9FDABE</td>\n",
       "      <td>electric_bike</td>\n",
       "      <td>2021-01-09 15:28:04</td>\n",
       "      <td>2021-01-09 15:37:51</td>\n",
       "      <td>California Ave &amp; Cortez St</td>\n",
       "      <td>17660</td>\n",
       "      <td>Wood St &amp; Augusta Blvd</td>\n",
       "      <td>657</td>\n",
       "      <td>41.900374</td>\n",
       "      <td>-87.696688</td>\n",
       "      <td>41.899180</td>\n",
       "      <td>-87.672178</td>\n",
       "      <td>casual</td>\n",
       "      <td>Saturday</td>\n",
       "      <td>2021-01-09</td>\n",
       "      <td>January</td>\n",
       "      <td>2021</td>\n",
       "      <td>9</td>\n",
       "    </tr>\n",
       "    <tr>\n",
       "      <th>12</th>\n",
       "      <td>4D518C65E338D070</td>\n",
       "      <td>electric_bike</td>\n",
       "      <td>2021-01-09 15:28:57</td>\n",
       "      <td>2021-01-09 15:37:54</td>\n",
       "      <td>California Ave &amp; Cortez St</td>\n",
       "      <td>17660</td>\n",
       "      <td>Wood St &amp; Augusta Blvd</td>\n",
       "      <td>657</td>\n",
       "      <td>41.900379</td>\n",
       "      <td>-87.696716</td>\n",
       "      <td>41.899149</td>\n",
       "      <td>-87.672177</td>\n",
       "      <td>casual</td>\n",
       "      <td>Saturday</td>\n",
       "      <td>2021-01-09</td>\n",
       "      <td>January</td>\n",
       "      <td>2021</td>\n",
       "      <td>9</td>\n",
       "    </tr>\n",
       "    <tr>\n",
       "      <th>13</th>\n",
       "      <td>9D08A3AFF410474D</td>\n",
       "      <td>classic_bike</td>\n",
       "      <td>2021-01-24 15:56:59</td>\n",
       "      <td>2021-01-24 16:07:08</td>\n",
       "      <td>California Ave &amp; Cortez St</td>\n",
       "      <td>17660</td>\n",
       "      <td>Wood St &amp; Augusta Blvd</td>\n",
       "      <td>657</td>\n",
       "      <td>41.900363</td>\n",
       "      <td>-87.696704</td>\n",
       "      <td>41.899181</td>\n",
       "      <td>-87.672200</td>\n",
       "      <td>casual</td>\n",
       "      <td>Sunday</td>\n",
       "      <td>2021-01-24</td>\n",
       "      <td>January</td>\n",
       "      <td>2021</td>\n",
       "      <td>24</td>\n",
       "    </tr>\n",
       "  </tbody>\n",
       "</table>\n",
       "</div>"
      ],
      "text/plain": [
       "             ride_id  rideable_type          started_at            ended_at  \\\n",
       "9   B9F73448DFBE0D45   classic_bike 2021-01-24 19:15:38 2021-01-24 19:22:51   \n",
       "10  457C7F4B5D3DA135  electric_bike 2021-01-23 12:57:38 2021-01-23 13:02:10   \n",
       "11  57C750326F9FDABE  electric_bike 2021-01-09 15:28:04 2021-01-09 15:37:51   \n",
       "12  4D518C65E338D070  electric_bike 2021-01-09 15:28:57 2021-01-09 15:37:54   \n",
       "13  9D08A3AFF410474D   classic_bike 2021-01-24 15:56:59 2021-01-24 16:07:08   \n",
       "\n",
       "            start_station_name start_station_id            end_station_name  \\\n",
       "9   California Ave & Cortez St            17660      Wood St & Augusta Blvd   \n",
       "10  California Ave & Cortez St            17660  California Ave & North Ave   \n",
       "11  California Ave & Cortez St            17660      Wood St & Augusta Blvd   \n",
       "12  California Ave & Cortez St            17660      Wood St & Augusta Blvd   \n",
       "13  California Ave & Cortez St            17660      Wood St & Augusta Blvd   \n",
       "\n",
       "   end_station_id  start_lat  start_lng    end_lat    end_lng member_casual  \\\n",
       "9             657  41.900363 -87.696704  41.899181 -87.672200        member   \n",
       "10          13258  41.900406 -87.696733  41.910435 -87.696890        member   \n",
       "11            657  41.900374 -87.696688  41.899180 -87.672178        casual   \n",
       "12            657  41.900379 -87.696716  41.899149 -87.672177        casual   \n",
       "13            657  41.900363 -87.696704  41.899181 -87.672200        casual   \n",
       "\n",
       "   day_of_week        date    month  year  day  \n",
       "9       Sunday  2021-01-24  January  2021   24  \n",
       "10    Saturday  2021-01-23  January  2021   23  \n",
       "11    Saturday  2021-01-09  January  2021    9  \n",
       "12    Saturday  2021-01-09  January  2021    9  \n",
       "13      Sunday  2021-01-24  January  2021   24  "
      ]
     },
     "execution_count": 11,
     "metadata": {},
     "output_type": "execute_result"
    }
   ],
   "source": [
    "bike_trip_df['started_at'] = pd.to_datetime(bike_trip_df['started_at'])\n",
    "bike_trip_df['ended_at'] = pd.to_datetime(bike_trip_df['ended_at'])\n",
    "\n",
    "bike_trip_df['day_of_week'] = bike_trip_df['started_at'].dt.day_name()\n",
    "bike_trip_df['date'] = bike_trip_df['started_at'].dt.date\n",
    "bike_trip_df['month'] = bike_trip_df['started_at'].dt.month_name()\n",
    "bike_trip_df['year'] = bike_trip_df['started_at'].dt.year\n",
    "bike_trip_df['day'] = bike_trip_df['started_at'].dt.day\n",
    "\n",
    "bike_trip_df.head()"
   ]
  },
  {
   "cell_type": "markdown",
   "id": "f7b06bf4",
   "metadata": {},
   "source": [
    "We then create `ride_length` column to determine how long riders use the bikes"
   ]
  },
  {
   "cell_type": "code",
   "execution_count": 12,
   "id": "3aba6e25",
   "metadata": {},
   "outputs": [],
   "source": [
    "bike_trip_df['ride_length (min)'] = ((bike_trip_df['ended_at'] - bike_trip_df['started_at']).dt.total_seconds() / 60).round()"
   ]
  },
  {
   "cell_type": "code",
   "execution_count": 13,
   "id": "54d554cc",
   "metadata": {},
   "outputs": [
    {
     "data": {
      "text/html": [
       "<div>\n",
       "<style scoped>\n",
       "    .dataframe tbody tr th:only-of-type {\n",
       "        vertical-align: middle;\n",
       "    }\n",
       "\n",
       "    .dataframe tbody tr th {\n",
       "        vertical-align: top;\n",
       "    }\n",
       "\n",
       "    .dataframe thead th {\n",
       "        text-align: right;\n",
       "    }\n",
       "</style>\n",
       "<table border=\"1\" class=\"dataframe\">\n",
       "  <thead>\n",
       "    <tr style=\"text-align: right;\">\n",
       "      <th></th>\n",
       "      <th>ride_id</th>\n",
       "      <th>rideable_type</th>\n",
       "      <th>started_at</th>\n",
       "      <th>ended_at</th>\n",
       "      <th>start_station_name</th>\n",
       "      <th>start_station_id</th>\n",
       "      <th>end_station_name</th>\n",
       "      <th>end_station_id</th>\n",
       "      <th>start_lat</th>\n",
       "      <th>start_lng</th>\n",
       "      <th>end_lat</th>\n",
       "      <th>end_lng</th>\n",
       "      <th>member_casual</th>\n",
       "      <th>day_of_week</th>\n",
       "      <th>date</th>\n",
       "      <th>month</th>\n",
       "      <th>year</th>\n",
       "      <th>day</th>\n",
       "      <th>ride_length (min)</th>\n",
       "    </tr>\n",
       "  </thead>\n",
       "  <tbody>\n",
       "    <tr>\n",
       "      <th>9</th>\n",
       "      <td>B9F73448DFBE0D45</td>\n",
       "      <td>classic_bike</td>\n",
       "      <td>2021-01-24 19:15:38</td>\n",
       "      <td>2021-01-24 19:22:51</td>\n",
       "      <td>California Ave &amp; Cortez St</td>\n",
       "      <td>17660</td>\n",
       "      <td>Wood St &amp; Augusta Blvd</td>\n",
       "      <td>657</td>\n",
       "      <td>41.900363</td>\n",
       "      <td>-87.696704</td>\n",
       "      <td>41.899181</td>\n",
       "      <td>-87.672200</td>\n",
       "      <td>member</td>\n",
       "      <td>Sunday</td>\n",
       "      <td>2021-01-24</td>\n",
       "      <td>January</td>\n",
       "      <td>2021</td>\n",
       "      <td>24</td>\n",
       "      <td>7.0</td>\n",
       "    </tr>\n",
       "    <tr>\n",
       "      <th>10</th>\n",
       "      <td>457C7F4B5D3DA135</td>\n",
       "      <td>electric_bike</td>\n",
       "      <td>2021-01-23 12:57:38</td>\n",
       "      <td>2021-01-23 13:02:10</td>\n",
       "      <td>California Ave &amp; Cortez St</td>\n",
       "      <td>17660</td>\n",
       "      <td>California Ave &amp; North Ave</td>\n",
       "      <td>13258</td>\n",
       "      <td>41.900406</td>\n",
       "      <td>-87.696733</td>\n",
       "      <td>41.910435</td>\n",
       "      <td>-87.696890</td>\n",
       "      <td>member</td>\n",
       "      <td>Saturday</td>\n",
       "      <td>2021-01-23</td>\n",
       "      <td>January</td>\n",
       "      <td>2021</td>\n",
       "      <td>23</td>\n",
       "      <td>5.0</td>\n",
       "    </tr>\n",
       "    <tr>\n",
       "      <th>11</th>\n",
       "      <td>57C750326F9FDABE</td>\n",
       "      <td>electric_bike</td>\n",
       "      <td>2021-01-09 15:28:04</td>\n",
       "      <td>2021-01-09 15:37:51</td>\n",
       "      <td>California Ave &amp; Cortez St</td>\n",
       "      <td>17660</td>\n",
       "      <td>Wood St &amp; Augusta Blvd</td>\n",
       "      <td>657</td>\n",
       "      <td>41.900374</td>\n",
       "      <td>-87.696688</td>\n",
       "      <td>41.899180</td>\n",
       "      <td>-87.672178</td>\n",
       "      <td>casual</td>\n",
       "      <td>Saturday</td>\n",
       "      <td>2021-01-09</td>\n",
       "      <td>January</td>\n",
       "      <td>2021</td>\n",
       "      <td>9</td>\n",
       "      <td>10.0</td>\n",
       "    </tr>\n",
       "    <tr>\n",
       "      <th>12</th>\n",
       "      <td>4D518C65E338D070</td>\n",
       "      <td>electric_bike</td>\n",
       "      <td>2021-01-09 15:28:57</td>\n",
       "      <td>2021-01-09 15:37:54</td>\n",
       "      <td>California Ave &amp; Cortez St</td>\n",
       "      <td>17660</td>\n",
       "      <td>Wood St &amp; Augusta Blvd</td>\n",
       "      <td>657</td>\n",
       "      <td>41.900379</td>\n",
       "      <td>-87.696716</td>\n",
       "      <td>41.899149</td>\n",
       "      <td>-87.672177</td>\n",
       "      <td>casual</td>\n",
       "      <td>Saturday</td>\n",
       "      <td>2021-01-09</td>\n",
       "      <td>January</td>\n",
       "      <td>2021</td>\n",
       "      <td>9</td>\n",
       "      <td>9.0</td>\n",
       "    </tr>\n",
       "    <tr>\n",
       "      <th>13</th>\n",
       "      <td>9D08A3AFF410474D</td>\n",
       "      <td>classic_bike</td>\n",
       "      <td>2021-01-24 15:56:59</td>\n",
       "      <td>2021-01-24 16:07:08</td>\n",
       "      <td>California Ave &amp; Cortez St</td>\n",
       "      <td>17660</td>\n",
       "      <td>Wood St &amp; Augusta Blvd</td>\n",
       "      <td>657</td>\n",
       "      <td>41.900363</td>\n",
       "      <td>-87.696704</td>\n",
       "      <td>41.899181</td>\n",
       "      <td>-87.672200</td>\n",
       "      <td>casual</td>\n",
       "      <td>Sunday</td>\n",
       "      <td>2021-01-24</td>\n",
       "      <td>January</td>\n",
       "      <td>2021</td>\n",
       "      <td>24</td>\n",
       "      <td>10.0</td>\n",
       "    </tr>\n",
       "  </tbody>\n",
       "</table>\n",
       "</div>"
      ],
      "text/plain": [
       "             ride_id  rideable_type          started_at            ended_at  \\\n",
       "9   B9F73448DFBE0D45   classic_bike 2021-01-24 19:15:38 2021-01-24 19:22:51   \n",
       "10  457C7F4B5D3DA135  electric_bike 2021-01-23 12:57:38 2021-01-23 13:02:10   \n",
       "11  57C750326F9FDABE  electric_bike 2021-01-09 15:28:04 2021-01-09 15:37:51   \n",
       "12  4D518C65E338D070  electric_bike 2021-01-09 15:28:57 2021-01-09 15:37:54   \n",
       "13  9D08A3AFF410474D   classic_bike 2021-01-24 15:56:59 2021-01-24 16:07:08   \n",
       "\n",
       "            start_station_name start_station_id            end_station_name  \\\n",
       "9   California Ave & Cortez St            17660      Wood St & Augusta Blvd   \n",
       "10  California Ave & Cortez St            17660  California Ave & North Ave   \n",
       "11  California Ave & Cortez St            17660      Wood St & Augusta Blvd   \n",
       "12  California Ave & Cortez St            17660      Wood St & Augusta Blvd   \n",
       "13  California Ave & Cortez St            17660      Wood St & Augusta Blvd   \n",
       "\n",
       "   end_station_id  start_lat  start_lng    end_lat    end_lng member_casual  \\\n",
       "9             657  41.900363 -87.696704  41.899181 -87.672200        member   \n",
       "10          13258  41.900406 -87.696733  41.910435 -87.696890        member   \n",
       "11            657  41.900374 -87.696688  41.899180 -87.672178        casual   \n",
       "12            657  41.900379 -87.696716  41.899149 -87.672177        casual   \n",
       "13            657  41.900363 -87.696704  41.899181 -87.672200        casual   \n",
       "\n",
       "   day_of_week        date    month  year  day  ride_length (min)  \n",
       "9       Sunday  2021-01-24  January  2021   24                7.0  \n",
       "10    Saturday  2021-01-23  January  2021   23                5.0  \n",
       "11    Saturday  2021-01-09  January  2021    9               10.0  \n",
       "12    Saturday  2021-01-09  January  2021    9                9.0  \n",
       "13      Sunday  2021-01-24  January  2021   24               10.0  "
      ]
     },
     "execution_count": 13,
     "metadata": {},
     "output_type": "execute_result"
    }
   ],
   "source": [
    "bike_trip_df.head()"
   ]
  },
  {
   "cell_type": "markdown",
   "id": "9d2b3a64",
   "metadata": {},
   "source": [
    "We have to get rid of the rows with ride_length that are 0min and below"
   ]
  },
  {
   "cell_type": "code",
   "execution_count": 14,
   "id": "8ec03d7a",
   "metadata": {},
   "outputs": [],
   "source": [
    "bike_trip_df_v2 = bike_trip_df[bike_trip_df['ride_length (min)'] > 0]"
   ]
  },
  {
   "cell_type": "markdown",
   "id": "3732ea91",
   "metadata": {},
   "source": [
    "## Data Visualization"
   ]
  },
  {
   "cell_type": "markdown",
   "id": "f5587dc3",
   "metadata": {},
   "source": [
    "Visualization helps interpret and create insights on our dataset.\n",
    "\n",
    "We first need to know the number of casual and member riders."
   ]
  },
  {
   "cell_type": "code",
   "execution_count": 15,
   "id": "e7f26ba2",
   "metadata": {},
   "outputs": [
    {
     "data": {
      "text/plain": [
       "Index(['ride_id', 'rideable_type', 'started_at', 'ended_at',\n",
       "       'start_station_name', 'start_station_id', 'end_station_name',\n",
       "       'end_station_id', 'start_lat', 'start_lng', 'end_lat', 'end_lng',\n",
       "       'member_casual', 'day_of_week', 'date', 'month', 'year', 'day',\n",
       "       'ride_length (min)'],\n",
       "      dtype='object')"
      ]
     },
     "execution_count": 15,
     "metadata": {},
     "output_type": "execute_result"
    }
   ],
   "source": [
    "bike_trip_df_v2.columns"
   ]
  },
  {
   "cell_type": "code",
   "execution_count": 16,
   "id": "a90a847d",
   "metadata": {},
   "outputs": [
    {
     "data": {
      "text/plain": [
       "member_casual\n",
       "member    2514332\n",
       "casual    2036646\n",
       "Name: count, dtype: int64"
      ]
     },
     "execution_count": 16,
     "metadata": {},
     "output_type": "execute_result"
    }
   ],
   "source": [
    "bike_trip_df_v2[\"member_casual\"].value_counts()"
   ]
  },
  {
   "cell_type": "markdown",
   "id": "8f49d34a",
   "metadata": {},
   "source": [
    "There are more members (2514332) than casual riders (2036646)"
   ]
  },
  {
   "cell_type": "markdown",
   "id": "9f75be4f",
   "metadata": {},
   "source": [
    "We then create a percentage output to show the ratio amongst the rider type"
   ]
  },
  {
   "cell_type": "code",
   "execution_count": 17,
   "id": "240e0005",
   "metadata": {},
   "outputs": [
    {
     "data": {
      "text/plain": [
       "member_casual\n",
       "member    55.248169\n",
       "casual    44.751831\n",
       "Name: proportion, dtype: float64"
      ]
     },
     "execution_count": 17,
     "metadata": {},
     "output_type": "execute_result"
    }
   ],
   "source": [
    "bike_trip_df_v2[\"member_casual\"].value_counts(normalize=True) * 100"
   ]
  },
  {
   "cell_type": "markdown",
   "id": "f6c2151c",
   "metadata": {},
   "source": [
    "Members occupy 55.25% as compared to the casual 44.75%"
   ]
  },
  {
   "cell_type": "markdown",
   "id": "78ca62f8",
   "metadata": {},
   "source": [
    "We then plot the rider types"
   ]
  },
  {
   "cell_type": "code",
   "execution_count": 18,
   "id": "375d5a03",
   "metadata": {},
   "outputs": [
    {
     "data": {
      "image/png": "[encoded data removed]",
      "text/plain": [
       "<Figure size 640x480 with 1 Axes>"
      ]
     },
     "metadata": {},
     "output_type": "display_data"
    }
   ],
   "source": [
    "rider_type_total = bike_trip_df_v2[\"member_casual\"].value_counts()\n",
    "rider_type_total.plot(kind='bar', color=['skyblue', 'salmon'])\n",
    "\n",
    "plt.title('Number of Rides by Rider Type')\n",
    "plt.xlabel('Rider Type')\n",
    "plt.ylabel('Number of Rides')\n",
    "plt.xticks(rotation=0)\n",
    "plt.grid(axis='y', linestyle='--', alpha=0.7)\n",
    "plt.tight_layout()\n",
    "plt.show()"
   ]
  },
  {
   "cell_type": "markdown",
   "id": "76d4f4d7",
   "metadata": {},
   "source": [
    "We then plot the average `ride_length(min)` grouped by `member casual`"
   ]
  },
  {
   "cell_type": "code",
   "execution_count": 19,
   "id": "164e332e",
   "metadata": {},
   "outputs": [],
   "source": [
    "# Make sure ride_length is numeric\n",
    "bike_trip_df_v2['ride_length (min)'] = pd.to_numeric(bike_trip_df_v2['ride_length (min)'], errors='coerce')\n",
    "\n",
    "# Group and compute average ride length\n",
    "rider_type_average_duration = bike_trip_df_v2.groupby('member_casual')['ride_length (min)'].mean().reset_index()"
   ]
  },
  {
   "cell_type": "code",
   "execution_count": 20,
   "id": "28d017ad",
   "metadata": {},
   "outputs": [
    {
     "data": {
      "image/png": "[encoded data removed]",
      "text/plain": [
       "<Figure size 800x500 with 1 Axes>"
      ]
     },
     "metadata": {},
     "output_type": "display_data"
    }
   ],
   "source": [
    "sns.set(style='whitegrid')\n",
    "\n",
    "# Plot\n",
    "plt.figure(figsize=(8, 5))\n",
    "barplot = sns.barplot(\n",
    "    data=rider_type_average_duration,\n",
    "    x='member_casual',\n",
    "    y='ride_length (min)',\n",
    "    palette='Set2'\n",
    ")\n",
    "\n",
    "# Add text labels\n",
    "for index, row in rider_type_average_duration.iterrows():\n",
    "    plt.text(x=index, y=row['ride_length (min)'] + 0.5, s=f\"{row['ride_length (min)']:.1f}\", ha='center')\n",
    "\n",
    "# Labels and title\n",
    "plt.title('Average Ride Length by Rider Type')\n",
    "plt.xlabel('Rider Type')\n",
    "plt.ylabel('Average Ride Length (minutes)')\n",
    "plt.tight_layout()\n",
    "plt.show()"
   ]
  },
  {
   "cell_type": "markdown",
   "id": "e91e32a3",
   "metadata": {},
   "source": [
    "The average ride length in minutes for casual riders is higher (32.7 min) as compared to the member riders (13.3 min)"
   ]
  },
  {
   "cell_type": "markdown",
   "id": "6fcc7d82",
   "metadata": {},
   "source": [
    "We then check the average ride length based on the day of the week grouped by the rider type"
   ]
  },
  {
   "cell_type": "code",
   "execution_count": 21,
   "id": "0e3bef71",
   "metadata": {},
   "outputs": [
    {
     "data": {
      "image/png": "[encoded data removed]",
      "text/plain": [
       "<Figure size 1000x600 with 1 Axes>"
      ]
     },
     "metadata": {},
     "output_type": "display_data"
    }
   ],
   "source": [
    "grouped_data = (\n",
    "    bike_trip_df_v2\n",
    "    .groupby(['member_casual', 'day_of_week'])\n",
    "    .agg(\n",
    "        number_of_rides=('ride_length (min)', 'count'),\n",
    "        average_duration=('ride_length (min)', 'mean')\n",
    "    )\n",
    "    .reset_index()\n",
    ")\n",
    "\n",
    "# Ensuring days are in proper order\n",
    "days_order = ['Monday', 'Tuesday', 'Wednesday', 'Thursday', 'Friday', 'Saturday', 'Sunday']\n",
    "grouped_data['day_of_week'] = pd.Categorical(grouped_data['day_of_week'], categories=days_order, ordered=True)\n",
    "grouped_data = grouped_data.sort_values(['member_casual', 'day_of_week'])\n",
    "\n",
    "# Set style\n",
    "sns.set(style='whitegrid')\n",
    "\n",
    "# Create grouped bar chart\n",
    "plt.figure(figsize=(10, 6))\n",
    "sns.barplot(\n",
    "    data=grouped_data,\n",
    "    x='day_of_week',\n",
    "    y='average_duration',\n",
    "    hue='member_casual',\n",
    "    palette='Set2'\n",
    ")\n",
    "\n",
    "# Customize labels and title\n",
    "plt.title('Average Ride Duration by Day of Week and Rider Type')\n",
    "plt.xlabel('Day of Week')\n",
    "plt.ylabel('Average Ride Duration (minutes)')\n",
    "plt.xticks(rotation=45)\n",
    "plt.legend(title='Rider Type')\n",
    "plt.tight_layout()\n",
    "plt.show()"
   ]
  },
  {
   "cell_type": "markdown",
   "id": "71d88772",
   "metadata": {},
   "source": [
    "It turns out that riders use the bikes more on weekends (especially Sundays) and use the bikes least on Wednesday."
   ]
  },
  {
   "cell_type": "markdown",
   "id": "d90fdbaf",
   "metadata": {},
   "source": [
    "We can check the number of trips for each day grouped by rider type"
   ]
  },
  {
   "cell_type": "code",
   "execution_count": 22,
   "id": "169586a7",
   "metadata": {},
   "outputs": [
    {
     "data": {
      "image/png": "[encoded data removed]",
      "text/plain": [
       "<Figure size 1000x600 with 1 Axes>"
      ]
     },
     "metadata": {},
     "output_type": "display_data"
    }
   ],
   "source": [
    "# Group and summarize number of rides\n",
    "grouped_rides = (\n",
    "    bike_trip_df_v2\n",
    "    .groupby(['member_casual', 'day_of_week'])\n",
    "    .agg(number_of_rides=('ride_length (min)', 'count'))\n",
    "    .reset_index()\n",
    ")\n",
    "\n",
    "# Ensuring day_of_week is in logical order\n",
    "days_order = ['Monday', 'Tuesday', 'Wednesday', 'Thursday', 'Friday', 'Saturday', 'Sunday']\n",
    "grouped_rides['day_of_week'] = pd.Categorical(grouped_rides['day_of_week'], categories=days_order, ordered=True)\n",
    "grouped_rides = grouped_rides.sort_values(['member_casual', 'day_of_week'])\n",
    "\n",
    "# Set style\n",
    "sns.set(style='whitegrid')\n",
    "\n",
    "# Plot\n",
    "plt.figure(figsize=(10, 6))\n",
    "sns.barplot(\n",
    "    data=grouped_rides,\n",
    "    x='day_of_week',\n",
    "    y='number_of_rides',\n",
    "    hue='member_casual',\n",
    "    palette='Set2'\n",
    ")\n",
    "\n",
    "# Customize plot\n",
    "plt.title('Number of Rides by Day of Week and Rider Type')\n",
    "plt.xlabel('Day of Week')\n",
    "plt.ylabel('Number of Rides')\n",
    "plt.xticks(rotation=45)\n",
    "plt.legend(title='Rider Type')\n",
    "plt.tight_layout()\n",
    "plt.show()"
   ]
  },
  {
   "cell_type": "markdown",
   "id": "888fd0ab",
   "metadata": {},
   "source": [
    "In terms of the number of trips, casuals take the most trips on Sundays while members take the most trips on Wednesday."
   ]
  },
  {
   "cell_type": "markdown",
   "id": "9341a9d4",
   "metadata": {},
   "source": [
    "We can also visualize the average trip durations and the number of trips according to months based on rider type."
   ]
  },
  {
   "cell_type": "code",
   "execution_count": 23,
   "id": "8a454e4a",
   "metadata": {},
   "outputs": [],
   "source": [
    "bike_trip_df_v2 = bike_trip_df_v2.dropna(subset=['ride_length (min)'])"
   ]
  },
  {
   "cell_type": "code",
   "execution_count": 24,
   "id": "a8e721f4",
   "metadata": {},
   "outputs": [
    {
     "data": {
      "text/plain": [
       "9           January\n",
       "10          January\n",
       "11          January\n",
       "12          January\n",
       "13          January\n",
       "             ...   \n",
       "5595051    December\n",
       "5595055    December\n",
       "5595059    December\n",
       "5595060    December\n",
       "5595062    December\n",
       "Name: month, Length: 4550978, dtype: object"
      ]
     },
     "execution_count": 24,
     "metadata": {},
     "output_type": "execute_result"
    }
   ],
   "source": [
    "bike_trip_df_v2['month']"
   ]
  },
  {
   "cell_type": "code",
   "execution_count": 25,
   "id": "4cf84e5b",
   "metadata": {},
   "outputs": [
    {
     "data": {
      "application/vnd.plotly.v1+json": {
       "config": {
        "plotlyServerURL": "https://plot.ly"
       },
       "data": [
        {
         "alignmentgroup": "True",
         "hovertemplate": "Member Type=casual<br>Month=%{x}<br>Average Duration=%{y}<extra></extra>",
         "legendgroup": "casual",
         "marker": {
          "color": "#636efa",
          "pattern": {
           "shape": ""
          }
         },
         "name": "casual",
         "offsetgroup": "casual",
         "orientation": "v",
         "showlegend": true,
         "text": [
          14627,
          8554,
          75313,
          119858,
          215570,
          302206,
          367203,
          339505,
          291307,
          188104,
          69558,
          44841
         ],
         "textangle": -90,
         "textposition": "outside",
         "texttemplate": "%{text:,}",
         "type": "bar",
         "x": [
          "January",
          "February",
          "March",
          "April",
          "May",
          "June",
          "July",
          "August",
          "September",
          "October",
          "November",
          "December"
         ],
         "xaxis": "x",
         "y": [
          26.487112873453203,
          47.46399345335516,
          38.64829445115717,
          38.619883528842465,
          39.86528737764995,
          38.77191386008219,
          33.48476183473446,
          28.728033460479228,
          28.243389276605093,
          26.456497469484965,
          22.610986514850914,
          24.972748154590665
         ],
         "yaxis": "y"
        },
        {
         "alignmentgroup": "True",
         "hovertemplate": "Member Type=member<br>Month=%{x}<br>Average Duration=%{y}<extra></extra>",
         "legendgroup": "member",
         "marker": {
          "color": "#EF553B",
          "pattern": {
           "shape": ""
          }
         },
         "name": "member",
         "offsetgroup": "member",
         "orientation": "v",
         "showlegend": true,
         "text": [
          68292,
          33975,
          128930,
          176054,
          231662,
          301427,
          319479,
          329668,
          324944,
          285856,
          184023,
          130022
         ],
         "textangle": -90,
         "textposition": "outside",
         "texttemplate": "%{text:,}",
         "type": "bar",
         "x": [
          "January",
          "February",
          "March",
          "April",
          "May",
          "June",
          "July",
          "August",
          "September",
          "October",
          "November",
          "December"
         ],
         "xaxis": "x2",
         "y": [
          12.122503367890822,
          14.958233995584989,
          13.782401303032653,
          14.402433344314813,
          14.497159655014633,
          14.287313346183321,
          13.93681900844813,
          13.685283376002523,
          13.261577379486926,
          12.138807651404903,
          11.061948778141863,
          10.682992109027703
         ],
         "yaxis": "y2"
        }
       ],
       "layout": {
        "annotations": [
         {
          "font": {},
          "showarrow": false,
          "text": "casual",
          "x": 0.245,
          "xanchor": "center",
          "xref": "paper",
          "y": 1,
          "yanchor": "bottom",
          "yref": "paper"
         },
         {
          "font": {},
          "showarrow": false,
          "text": "member",
          "x": 0.755,
          "xanchor": "center",
          "xref": "paper",
          "y": 1,
          "yanchor": "bottom",
          "yref": "paper"
         }
        ],
        "barmode": "relative",
        "legend": {
         "title": {
          "text": "Member Type"
         },
         "tracegroupgap": 0
        },
        "showlegend": false,
        "template": {
         "data": {
          "bar": [
           {
            "error_x": {
             "color": "#2a3f5f"
            },
            "error_y": {
             "color": "#2a3f5f"
            },
            "marker": {
             "line": {
              "color": "#E5ECF6",
              "width": 0.5
             },
             "pattern": {
              "fillmode": "overlay",
              "size": 10,
              "solidity": 0.2
             }
            },
            "type": "bar"
           }
          ],
          "barpolar": [
           {
            "marker": {
             "line": {
              "color": "#E5ECF6",
              "width": 0.5
             },
             "pattern": {
              "fillmode": "overlay",
              "size": 10,
              "solidity": 0.2
             }
            },
            "type": "barpolar"
           }
          ],
          "carpet": [
           {
            "aaxis": {
             "endlinecolor": "#2a3f5f",
             "gridcolor": "white",
             "linecolor": "white",
             "minorgridcolor": "white",
             "startlinecolor": "#2a3f5f"
            },
            "baxis": {
             "endlinecolor": "#2a3f5f",
             "gridcolor": "white",
             "linecolor": "white",
             "minorgridcolor": "white",
             "startlinecolor": "#2a3f5f"
            },
            "type": "carpet"
           }
          ],
          "choropleth": [
           {
            "colorbar": {
             "outlinewidth": 0,
             "ticks": ""
            },
            "type": "choropleth"
           }
          ],
          "contour": [
           {
            "colorbar": {
             "outlinewidth": 0,
             "ticks": ""
            },
            "colorscale": [
             [
              0,
              "#0d0887"
             ],
             [
              0.1111111111111111,
              "#46039f"
             ],
             [
              0.2222222222222222,
              "#7201a8"
             ],
             [
              0.3333333333333333,
              "#9c179e"
             ],
             [
              0.4444444444444444,
              "#bd3786"
             ],
             [
              0.5555555555555556,
              "#d8576b"
             ],
             [
              0.6666666666666666,
              "#ed7953"
             ],
             [
              0.7777777777777778,
              "#fb9f3a"
             ],
             [
              0.8888888888888888,
              "#fdca26"
             ],
             [
              1,
              "#f0f921"
             ]
            ],
            "type": "contour"
           }
          ],
          "contourcarpet": [
           {
            "colorbar": {
             "outlinewidth": 0,
             "ticks": ""
            },
            "type": "contourcarpet"
           }
          ],
          "heatmap": [
           {
            "colorbar": {
             "outlinewidth": 0,
             "ticks": ""
            },
            "colorscale": [
             [
              0,
              "#0d0887"
             ],
             [
              0.1111111111111111,
              "#46039f"
             ],
             [
              0.2222222222222222,
              "#7201a8"
             ],
             [
              0.3333333333333333,
              "#9c179e"
             ],
             [
              0.4444444444444444,
              "#bd3786"
             ],
             [
              0.5555555555555556,
              "#d8576b"
             ],
             [
              0.6666666666666666,
              "#ed7953"
             ],
             [
              0.7777777777777778,
              "#fb9f3a"
             ],
             [
              0.8888888888888888,
              "#fdca26"
             ],
             [
              1,
              "#f0f921"
             ]
            ],
            "type": "heatmap"
           }
          ],
          "heatmapgl": [
           {
            "colorbar": {
             "outlinewidth": 0,
             "ticks": ""
            },
            "colorscale": [
             [
              0,
              "#0d0887"
             ],
             [
              0.1111111111111111,
              "#46039f"
             ],
             [
              0.2222222222222222,
              "#7201a8"
             ],
             [
              0.3333333333333333,
              "#9c179e"
             ],
             [
              0.4444444444444444,
              "#bd3786"
             ],
             [
              0.5555555555555556,
              "#d8576b"
             ],
             [
              0.6666666666666666,
              "#ed7953"
             ],
             [
              0.7777777777777778,
              "#fb9f3a"
             ],
             [
              0.8888888888888888,
              "#fdca26"
             ],
             [
              1,
              "#f0f921"
             ]
            ],
            "type": "heatmapgl"
           }
          ],
          "histogram": [
           {
            "marker": {
             "pattern": {
              "fillmode": "overlay",
              "size": 10,
              "solidity": 0.2
             }
            },
            "type": "histogram"
           }
          ],
          "histogram2d": [
           {
            "colorbar": {
             "outlinewidth": 0,
             "ticks": ""
            },
            "colorscale": [
             [
              0,
              "#0d0887"
             ],
             [
              0.1111111111111111,
              "#46039f"
             ],
             [
              0.2222222222222222,
              "#7201a8"
             ],
             [
              0.3333333333333333,
              "#9c179e"
             ],
             [
              0.4444444444444444,
              "#bd3786"
             ],
             [
              0.5555555555555556,
              "#d8576b"
             ],
             [
              0.6666666666666666,
              "#ed7953"
             ],
             [
              0.7777777777777778,
              "#fb9f3a"
             ],
             [
              0.8888888888888888,
              "#fdca26"
             ],
             [
              1,
              "#f0f921"
             ]
            ],
            "type": "histogram2d"
           }
          ],
          "histogram2dcontour": [
           {
            "colorbar": {
             "outlinewidth": 0,
             "ticks": ""
            },
            "colorscale": [
             [
              0,
              "#0d0887"
             ],
             [
              0.1111111111111111,
              "#46039f"
             ],
             [
              0.2222222222222222,
              "#7201a8"
             ],
             [
              0.3333333333333333,
              "#9c179e"
             ],
             [
              0.4444444444444444,
              "#bd3786"
             ],
             [
              0.5555555555555556,
              "#d8576b"
             ],
             [
              0.6666666666666666,
              "#ed7953"
             ],
             [
              0.7777777777777778,
              "#fb9f3a"
             ],
             [
              0.8888888888888888,
              "#fdca26"
             ],
             [
              1,
              "#f0f921"
             ]
            ],
            "type": "histogram2dcontour"
           }
          ],
          "mesh3d": [
           {
            "colorbar": {
             "outlinewidth": 0,
             "ticks": ""
            },
            "type": "mesh3d"
           }
          ],
          "parcoords": [
           {
            "line": {
             "colorbar": {
              "outlinewidth": 0,
              "ticks": ""
             }
            },
            "type": "parcoords"
           }
          ],
          "pie": [
           {
            "automargin": true,
            "type": "pie"
           }
          ],
          "scatter": [
           {
            "fillpattern": {
             "fillmode": "overlay",
             "size": 10,
             "solidity": 0.2
            },
            "type": "scatter"
           }
          ],
          "scatter3d": [
           {
            "line": {
             "colorbar": {
              "outlinewidth": 0,
              "ticks": ""
             }
            },
            "marker": {
             "colorbar": {
              "outlinewidth": 0,
              "ticks": ""
             }
            },
            "type": "scatter3d"
           }
          ],
          "scattercarpet": [
           {
            "marker": {
             "colorbar": {
              "outlinewidth": 0,
              "ticks": ""
             }
            },
            "type": "scattercarpet"
           }
          ],
          "scattergeo": [
           {
            "marker": {
             "colorbar": {
              "outlinewidth": 0,
              "ticks": ""
             }
            },
            "type": "scattergeo"
           }
          ],
          "scattergl": [
           {
            "marker": {
             "colorbar": {
              "outlinewidth": 0,
              "ticks": ""
             }
            },
            "type": "scattergl"
           }
          ],
          "scattermapbox": [
           {
            "marker": {
             "colorbar": {
              "outlinewidth": 0,
              "ticks": ""
             }
            },
            "type": "scattermapbox"
           }
          ],
          "scatterpolar": [
           {
            "marker": {
             "colorbar": {
              "outlinewidth": 0,
              "ticks": ""
             }
            },
            "type": "scatterpolar"
           }
          ],
          "scatterpolargl": [
           {
            "marker": {
             "colorbar": {
              "outlinewidth": 0,
              "ticks": ""
             }
            },
            "type": "scatterpolargl"
           }
          ],
          "scatterternary": [
           {
            "marker": {
             "colorbar": {
              "outlinewidth": 0,
              "ticks": ""
             }
            },
            "type": "scatterternary"
           }
          ],
          "surface": [
           {
            "colorbar": {
             "outlinewidth": 0,
             "ticks": ""
            },
            "colorscale": [
             [
              0,
              "#0d0887"
             ],
             [
              0.1111111111111111,
              "#46039f"
             ],
             [
              0.2222222222222222,
              "#7201a8"
             ],
             [
              0.3333333333333333,
              "#9c179e"
             ],
             [
              0.4444444444444444,
              "#bd3786"
             ],
             [
              0.5555555555555556,
              "#d8576b"
             ],
             [
              0.6666666666666666,
              "#ed7953"
             ],
             [
              0.7777777777777778,
              "#fb9f3a"
             ],
             [
              0.8888888888888888,
              "#fdca26"
             ],
             [
              1,
              "#f0f921"
             ]
            ],
            "type": "surface"
           }
          ],
          "table": [
           {
            "cells": {
             "fill": {
              "color": "#EBF0F8"
             },
             "line": {
              "color": "white"
             }
            },
            "header": {
             "fill": {
              "color": "#C8D4E3"
             },
             "line": {
              "color": "white"
             }
            },
            "type": "table"
           }
          ]
         },
         "layout": {
          "annotationdefaults": {
           "arrowcolor": "#2a3f5f",
           "arrowhead": 0,
           "arrowwidth": 1
          },
          "autotypenumbers": "strict",
          "coloraxis": {
           "colorbar": {
            "outlinewidth": 0,
            "ticks": ""
           }
          },
          "colorscale": {
           "diverging": [
            [
             0,
             "#8e0152"
            ],
            [
             0.1,
             "#c51b7d"
            ],
            [
             0.2,
             "#de77ae"
            ],
            [
             0.3,
             "#f1b6da"
            ],
            [
             0.4,
             "#fde0ef"
            ],
            [
             0.5,
             "#f7f7f7"
            ],
            [
             0.6,
             "#e6f5d0"
            ],
            [
             0.7,
             "#b8e186"
            ],
            [
             0.8,
             "#7fbc41"
            ],
            [
             0.9,
             "#4d9221"
            ],
            [
             1,
             "#276419"
            ]
           ],
           "sequential": [
            [
             0,
             "#0d0887"
            ],
            [
             0.1111111111111111,
             "#46039f"
            ],
            [
             0.2222222222222222,
             "#7201a8"
            ],
            [
             0.3333333333333333,
             "#9c179e"
            ],
            [
             0.4444444444444444,
             "#bd3786"
            ],
            [
             0.5555555555555556,
             "#d8576b"
            ],
            [
             0.6666666666666666,
             "#ed7953"
            ],
            [
             0.7777777777777778,
             "#fb9f3a"
            ],
            [
             0.8888888888888888,
             "#fdca26"
            ],
            [
             1,
             "#f0f921"
            ]
           ],
           "sequentialminus": [
            [
             0,
             "#0d0887"
            ],
            [
             0.1111111111111111,
             "#46039f"
            ],
            [
             0.2222222222222222,
             "#7201a8"
            ],
            [
             0.3333333333333333,
             "#9c179e"
            ],
            [
             0.4444444444444444,
             "#bd3786"
            ],
            [
             0.5555555555555556,
             "#d8576b"
            ],
            [
             0.6666666666666666,
             "#ed7953"
            ],
            [
             0.7777777777777778,
             "#fb9f3a"
            ],
            [
             0.8888888888888888,
             "#fdca26"
            ],
            [
             1,
             "#f0f921"
            ]
           ]
          },
          "colorway": [
           "#636efa",
           "#EF553B",
           "#00cc96",
           "#ab63fa",
           "#FFA15A",
           "#19d3f3",
           "#FF6692",
           "#B6E880",
           "#FF97FF",
           "#FECB52"
          ],
          "font": {
           "color": "#2a3f5f"
          },
          "geo": {
           "bgcolor": "white",
           "lakecolor": "white",
           "landcolor": "#E5ECF6",
           "showlakes": true,
           "showland": true,
           "subunitcolor": "white"
          },
          "hoverlabel": {
           "align": "left"
          },
          "hovermode": "closest",
          "mapbox": {
           "style": "light"
          },
          "paper_bgcolor": "white",
          "plot_bgcolor": "#E5ECF6",
          "polar": {
           "angularaxis": {
            "gridcolor": "white",
            "linecolor": "white",
            "ticks": ""
           },
           "bgcolor": "#E5ECF6",
           "radialaxis": {
            "gridcolor": "white",
            "linecolor": "white",
            "ticks": ""
           }
          },
          "scene": {
           "xaxis": {
            "backgroundcolor": "#E5ECF6",
            "gridcolor": "white",
            "gridwidth": 2,
            "linecolor": "white",
            "showbackground": true,
            "ticks": "",
            "zerolinecolor": "white"
           },
           "yaxis": {
            "backgroundcolor": "#E5ECF6",
            "gridcolor": "white",
            "gridwidth": 2,
            "linecolor": "white",
            "showbackground": true,
            "ticks": "",
            "zerolinecolor": "white"
           },
           "zaxis": {
            "backgroundcolor": "#E5ECF6",
            "gridcolor": "white",
            "gridwidth": 2,
            "linecolor": "white",
            "showbackground": true,
            "ticks": "",
            "zerolinecolor": "white"
           }
          },
          "shapedefaults": {
           "line": {
            "color": "#2a3f5f"
           }
          },
          "ternary": {
           "aaxis": {
            "gridcolor": "white",
            "linecolor": "white",
            "ticks": ""
           },
           "baxis": {
            "gridcolor": "white",
            "linecolor": "white",
            "ticks": ""
           },
           "bgcolor": "#E5ECF6",
           "caxis": {
            "gridcolor": "white",
            "linecolor": "white",
            "ticks": ""
           }
          },
          "title": {
           "x": 0.05
          },
          "xaxis": {
           "automargin": true,
           "gridcolor": "white",
           "linecolor": "white",
           "ticks": "",
           "title": {
            "standoff": 15
           },
           "zerolinecolor": "white",
           "zerolinewidth": 2
          },
          "yaxis": {
           "automargin": true,
           "gridcolor": "white",
           "linecolor": "white",
           "ticks": "",
           "title": {
            "standoff": 15
           },
           "zerolinecolor": "white",
           "zerolinewidth": 2
          }
         }
        },
        "title": {
         "text": "Average Ride Duration by Month (Faceted by Membership Type)"
        },
        "uniformtext": {
         "minsize": 8,
         "mode": "hide"
        },
        "xaxis": {
         "anchor": "y",
         "domain": [
          0,
          0.49
         ],
         "title": {
          "text": "Month"
         }
        },
        "xaxis2": {
         "anchor": "y2",
         "domain": [
          0.51,
          1
         ],
         "matches": "x",
         "title": {
          "text": "Month"
         }
        },
        "yaxis": {
         "anchor": "x",
         "domain": [
          0,
          1
         ],
         "title": {
          "text": "Average Duration (minutes)"
         }
        },
        "yaxis2": {
         "anchor": "x2",
         "domain": [
          0,
          1
         ],
         "matches": "y",
         "showticklabels": false
        }
       }
      }
     },
     "metadata": {},
     "output_type": "display_data"
    }
   ],
   "source": [
    "# Create ordered month column\n",
    "month_order = [\"January\", \"February\", \"March\", \"April\", \"May\", \"June\", \n",
    "               \"July\", \"August\", \"September\", \"October\", \"November\", \"December\"]\n",
    "bike_trip_df_v2['month'] = pd.Categorical(bike_trip_df_v2['month'], \n",
    "                                          categories=month_order, \n",
    "                                          ordered=True)\n",
    "\n",
    "# Group by and summarize data\n",
    "summary = bike_trip_df_v2.groupby(['member_casual', 'month']).agg(\n",
    "    number_of_rides=('ride_length (min)', 'count'),\n",
    "    average_duration=('ride_length (min)', 'mean')\n",
    ").reset_index().sort_values(['member_casual', 'month'])\n",
    "\n",
    "fig1 = px.bar(\n",
    "    summary,\n",
    "    x='month',\n",
    "    y='average_duration',\n",
    "    facet_col='member_casual',\n",
    "    color='member_casual',\n",
    "    title='Average Ride Duration by Month (Faceted by Membership Type)',\n",
    "    labels={\n",
    "        'average_duration': 'Average Duration',\n",
    "        'month': 'Month',\n",
    "        'member_casual': 'Member Type'\n",
    "    }\n",
    ")\n",
    "\n",
    "# Add number of rides as text labels to each facet\n",
    "fig1.for_each_trace(\n",
    "    lambda trace: trace.update(\n",
    "        text=summary.loc[summary['member_casual'] == trace.name, 'number_of_rides'],\n",
    "        textposition='outside',\n",
    "        textangle=-90,\n",
    "        texttemplate='%{text:,}'\n",
    "    )\n",
    ")\n",
    "\n",
    "fig1.update_layout(\n",
    "    yaxis_title='Average Duration (minutes)',\n",
    "    showlegend=False,\n",
    "    uniformtext_minsize=8,\n",
    "    uniformtext_mode='hide'\n",
    ")\n",
    "\n",
    "# Update facet titles\n",
    "fig1.for_each_annotation(lambda a: a.update(text=a.text.split(\"=\")[-1]))\n",
    "\n",
    "fig1.show()\n"
   ]
  },
  {
   "cell_type": "markdown",
   "id": "2b347da2",
   "metadata": {},
   "source": [
    "The month of February recorded the highest average duration for both casuals and members."
   ]
  },
  {
   "cell_type": "markdown",
   "id": "5a959885",
   "metadata": {},
   "source": [
    "# Conclusion"
   ]
  },
  {
   "cell_type": "markdown",
   "id": "c24fca7e",
   "metadata": {},
   "source": [
    "To answer the business questions:\n",
    "1. How do annual members and casual riders use Cyclistic bikes differently?\n",
    "There are a few differences between the groups include the average trip durations and number of trips on a weekly and yearly basis.\n",
    "2. Why would casual riders buy Cyclistic annual memberships?\n",
    "According to the charts, casual bike riders use the bikes more than the members and with that, it would be convenient for them in terms of bike usage.\n",
    "3. How can Cyclistic use digital media to influence casual riders to become members?\n",
    "A digital media campaign would focus on influencing casual riders into buying annual memberships while marketing the benefits of being a member including free passes."
   ]
  },
  {
   "cell_type": "markdown",
   "id": "bc01ed14",
   "metadata": {},
   "source": [
    "# Recommendations"
   ]
  },
  {
   "cell_type": "markdown",
   "id": "21785dc5",
   "metadata": {},
   "source": [
    "The 2 recommendations based on this analysis include:\n",
    "1. Educate casual riders on the perks of memberships as a lack of knowledge can be the reason for the long usage by casual riders\n",
    "2. A campaign to increase the usage by members especially in the less popular months could increase the number of trips. This campaign should provide benefits or rewards for continued usage with a focus on the less popular months."
   ]
  }
 ],
 "metadata": {
  "kernelspec": {
   "display_name": "high_society",
   "language": "python",
   "name": "python3"
  },
  "language_info": {
   "codemirror_mode": {
    "name": "ipython",
    "version": 3
   },
   "file_extension": ".py",
   "mimetype": "text/x-python",
   "name": "python",
   "nbconvert_exporter": "python",
   "pygments_lexer": "ipython3",
   "version": "3.12.7"
  }
 },
 "nbformat": 4,
 "nbformat_minor": 5
}
